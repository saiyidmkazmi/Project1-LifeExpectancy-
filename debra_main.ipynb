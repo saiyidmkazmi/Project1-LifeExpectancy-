{
 "cells": [
  {
   "cell_type": "code",
   "execution_count": 1,
   "metadata": {},
   "outputs": [],
   "source": [
    "%matplotlib inline"
   ]
  },
  {
   "cell_type": "code",
   "execution_count": 2,
   "metadata": {},
   "outputs": [],
   "source": [
    "import pandas as pd\n",
    "import os\n",
    "import matplotlib.pyplot as pyplot\n",
    "import scipy.stats as st\n",
    "import numpy as np\n",
    "from scipy.stats import linregress"
   ]
  },
  {
   "cell_type": "code",
   "execution_count": 3,
   "metadata": {},
   "outputs": [],
   "source": [
    "## Pulling data from csvs and storing as dataframes and Cleaning our dataframes\n",
    "pharm_csv = os.path.join(os.getcwd(), \"Data\", \"pharmacists.csv\")\n",
    "pharm_df = pd.read_csv(pharm_csv)\n",
    "##Changing column names\n",
    "pharm_df = pharm_df.rename(columns = {\"First Tooltip\" : \"Pharmicists Per 10,000\"}).drop(columns =[\"Indicator\"])"
   ]
  },
  {
   "cell_type": "code",
   "execution_count": 4,
   "metadata": {},
   "outputs": [],
   "source": [
    "med_doctors_csv = os.path.join(os.getcwd(), \"Data\", \"medicalDoctors.csv\")\n",
    "med_doctors_df = pd.read_csv(med_doctors_csv)\n",
    "##Changing column names\n",
    "med_doctors_df = med_doctors_df.rename(columns = {\"First Tooltip\" : \"Medical Doctors Per 10,000\"}).drop(columns =[\"Indicator\"])"
   ]
  },
  {
   "cell_type": "code",
   "execution_count": 5,
   "metadata": {},
   "outputs": [],
   "source": [
    "life_expect_csv = os.path.join(os.getcwd(), \"Data\", \"Life expectancy.csv\")\n",
    "life_expect_df = pd.read_csv(life_expect_csv)\n",
    "##Changing column names\n",
    "life_expect_df = life_expect_df.rename(columns = {\"Entity\" : \"Location\", \"Year\" : \"Period\"})"
   ]
  },
  {
   "cell_type": "code",
   "execution_count": 6,
   "metadata": {},
   "outputs": [],
   "source": [
    "hand_wash_csv = os.path.join(os.getcwd(), \"Data\", \"basicHandWashing.csv\")\n",
    "hand_wash_df = pd.read_csv(hand_wash_csv)\n",
    "##Changing column names\n",
    "hand_wash_df = hand_wash_df.rename(columns = {\"First Tooltip\" : \"Population with basic handwashing facilities at home (%)\"}).drop(columns =[\"Indicator\"])\n",
    "hand_wash_df = hand_wash_df[hand_wash_df[\"Dim1\"].str.contains(\"Urban\")==False]\n",
    "hand_wash_df = hand_wash_df[hand_wash_df[\"Dim1\"].str.contains(\"Rural\")==False]\n",
    "hand_wash_df = hand_wash_df.drop(columns = {\"Dim1\"})"
   ]
  },
  {
   "cell_type": "code",
   "execution_count": 7,
   "metadata": {},
   "outputs": [],
   "source": [
    "drink_water_csv = os.path.join(os.getcwd(), \"Data\", \"basicDrinkingWaterServices.csv\")\n",
    "drink_water_df = pd.read_csv(drink_water_csv)\n",
    "##Changing column names\n",
    "drink_water_df = drink_water_df.rename(columns = {\"First Tooltip\" : \"Population using at least basic drinking-water services (%)\"}).drop(columns =[\"Indicator\"])"
   ]
  },
  {
   "cell_type": "code",
   "execution_count": 8,
   "metadata": {},
   "outputs": [],
   "source": [
    "sanitize_csv= os.path.join(os.getcwd(), \"Data\", \"atLeastBasicSanitizationServices.csv\")\n",
    "sanitize_df = pd.read_csv(sanitize_csv)\n",
    "##Changing column names\n",
    "sanitize_df = sanitize_df.rename(columns = {\"First Tooltip\" : \"Population using at least basic sanitization services (%)\"}).drop(columns =[\"Indicator\"])\n",
    "sanitize_df = sanitize_df[sanitize_df[\"Dim1\"].str.contains(\"Urban\")==False]\n",
    "sanitize_df = sanitize_df[sanitize_df[\"Dim1\"].str.contains(\"Rural\")==False]\n",
    "sanitize_df = sanitize_df.drop(columns = {\"Dim1\"})"
   ]
  },
  {
   "cell_type": "code",
   "execution_count": 9,
   "metadata": {},
   "outputs": [
    {
     "output_type": "execute_result",
     "data": {
      "text/plain": [
       "         Location  Period  Pharmicists Per 10,000  Medical Doctors Per 10,000\n",
       "0     Afghanistan    2016                    0.47                        2.78\n",
       "1     Afghanistan    2015                    0.50                        2.85\n",
       "2     Afghanistan    2014                    0.51                        2.98\n",
       "3     Afghanistan    2012                    0.27                        2.41\n",
       "4     Afghanistan    2011                    0.28                        2.52\n",
       "...           ...     ...                     ...                         ...\n",
       "2620     Zimbabwe    2011                     NaN                        0.82\n",
       "2621     Zimbabwe    2008                     NaN                        0.60\n",
       "2622     Zimbabwe    2007                     NaN                        0.54\n",
       "2623     Zimbabwe    2005                     NaN                        1.26\n",
       "2624     Zimbabwe    2000                     NaN                        1.26\n",
       "\n",
       "[2625 rows x 4 columns]"
      ],
      "text/html": "<div>\n<style scoped>\n    .dataframe tbody tr th:only-of-type {\n        vertical-align: middle;\n    }\n\n    .dataframe tbody tr th {\n        vertical-align: top;\n    }\n\n    .dataframe thead th {\n        text-align: right;\n    }\n</style>\n<table border=\"1\" class=\"dataframe\">\n  <thead>\n    <tr style=\"text-align: right;\">\n      <th></th>\n      <th>Location</th>\n      <th>Period</th>\n      <th>Pharmicists Per 10,000</th>\n      <th>Medical Doctors Per 10,000</th>\n    </tr>\n  </thead>\n  <tbody>\n    <tr>\n      <th>0</th>\n      <td>Afghanistan</td>\n      <td>2016</td>\n      <td>0.47</td>\n      <td>2.78</td>\n    </tr>\n    <tr>\n      <th>1</th>\n      <td>Afghanistan</td>\n      <td>2015</td>\n      <td>0.50</td>\n      <td>2.85</td>\n    </tr>\n    <tr>\n      <th>2</th>\n      <td>Afghanistan</td>\n      <td>2014</td>\n      <td>0.51</td>\n      <td>2.98</td>\n    </tr>\n    <tr>\n      <th>3</th>\n      <td>Afghanistan</td>\n      <td>2012</td>\n      <td>0.27</td>\n      <td>2.41</td>\n    </tr>\n    <tr>\n      <th>4</th>\n      <td>Afghanistan</td>\n      <td>2011</td>\n      <td>0.28</td>\n      <td>2.52</td>\n    </tr>\n    <tr>\n      <th>...</th>\n      <td>...</td>\n      <td>...</td>\n      <td>...</td>\n      <td>...</td>\n    </tr>\n    <tr>\n      <th>2620</th>\n      <td>Zimbabwe</td>\n      <td>2011</td>\n      <td>NaN</td>\n      <td>0.82</td>\n    </tr>\n    <tr>\n      <th>2621</th>\n      <td>Zimbabwe</td>\n      <td>2008</td>\n      <td>NaN</td>\n      <td>0.60</td>\n    </tr>\n    <tr>\n      <th>2622</th>\n      <td>Zimbabwe</td>\n      <td>2007</td>\n      <td>NaN</td>\n      <td>0.54</td>\n    </tr>\n    <tr>\n      <th>2623</th>\n      <td>Zimbabwe</td>\n      <td>2005</td>\n      <td>NaN</td>\n      <td>1.26</td>\n    </tr>\n    <tr>\n      <th>2624</th>\n      <td>Zimbabwe</td>\n      <td>2000</td>\n      <td>NaN</td>\n      <td>1.26</td>\n    </tr>\n  </tbody>\n</table>\n<p>2625 rows × 4 columns</p>\n</div>"
     },
     "metadata": {},
     "execution_count": 9
    }
   ],
   "source": [
    "# Merge the Data\n",
    "merge_df1 = pd.merge(pharm_df, med_doctors_df, on = [\"Location\", \"Period\"], how = \"outer\")\n",
    "merge_df1"
   ]
  },
  {
   "cell_type": "code",
   "execution_count": 10,
   "metadata": {},
   "outputs": [
    {
     "output_type": "execute_result",
     "data": {
      "text/plain": [
       "           Location  Period  Pharmicists Per 10,000  \\\n",
       "0       Afghanistan    2016                    0.47   \n",
       "1       Afghanistan    2015                    0.50   \n",
       "2       Afghanistan    2014                    0.51   \n",
       "3       Afghanistan    2012                    0.27   \n",
       "4       Afghanistan    2011                    0.28   \n",
       "...             ...     ...                     ...   \n",
       "5637  United States    2012                     NaN   \n",
       "5638  United States    2013                     NaN   \n",
       "5639  United States    2014                     NaN   \n",
       "5640  United States    2015                     NaN   \n",
       "5641  United States    2016                     NaN   \n",
       "\n",
       "      Medical Doctors Per 10,000  Life expectancy  \n",
       "0                           2.78              NaN  \n",
       "1                           2.85              NaN  \n",
       "2                           2.98              NaN  \n",
       "3                           2.41              NaN  \n",
       "4                           2.52              NaN  \n",
       "...                          ...              ...  \n",
       "5637                         NaN        78.940002  \n",
       "5638                         NaN        78.959999  \n",
       "5639                         NaN        78.940002  \n",
       "5640                         NaN        78.870003  \n",
       "5641                         NaN        78.860001  \n",
       "\n",
       "[5642 rows x 5 columns]"
      ],
      "text/html": "<div>\n<style scoped>\n    .dataframe tbody tr th:only-of-type {\n        vertical-align: middle;\n    }\n\n    .dataframe tbody tr th {\n        vertical-align: top;\n    }\n\n    .dataframe thead th {\n        text-align: right;\n    }\n</style>\n<table border=\"1\" class=\"dataframe\">\n  <thead>\n    <tr style=\"text-align: right;\">\n      <th></th>\n      <th>Location</th>\n      <th>Period</th>\n      <th>Pharmicists Per 10,000</th>\n      <th>Medical Doctors Per 10,000</th>\n      <th>Life expectancy</th>\n    </tr>\n  </thead>\n  <tbody>\n    <tr>\n      <th>0</th>\n      <td>Afghanistan</td>\n      <td>2016</td>\n      <td>0.47</td>\n      <td>2.78</td>\n      <td>NaN</td>\n    </tr>\n    <tr>\n      <th>1</th>\n      <td>Afghanistan</td>\n      <td>2015</td>\n      <td>0.50</td>\n      <td>2.85</td>\n      <td>NaN</td>\n    </tr>\n    <tr>\n      <th>2</th>\n      <td>Afghanistan</td>\n      <td>2014</td>\n      <td>0.51</td>\n      <td>2.98</td>\n      <td>NaN</td>\n    </tr>\n    <tr>\n      <th>3</th>\n      <td>Afghanistan</td>\n      <td>2012</td>\n      <td>0.27</td>\n      <td>2.41</td>\n      <td>NaN</td>\n    </tr>\n    <tr>\n      <th>4</th>\n      <td>Afghanistan</td>\n      <td>2011</td>\n      <td>0.28</td>\n      <td>2.52</td>\n      <td>NaN</td>\n    </tr>\n    <tr>\n      <th>...</th>\n      <td>...</td>\n      <td>...</td>\n      <td>...</td>\n      <td>...</td>\n      <td>...</td>\n    </tr>\n    <tr>\n      <th>5637</th>\n      <td>United States</td>\n      <td>2012</td>\n      <td>NaN</td>\n      <td>NaN</td>\n      <td>78.940002</td>\n    </tr>\n    <tr>\n      <th>5638</th>\n      <td>United States</td>\n      <td>2013</td>\n      <td>NaN</td>\n      <td>NaN</td>\n      <td>78.959999</td>\n    </tr>\n    <tr>\n      <th>5639</th>\n      <td>United States</td>\n      <td>2014</td>\n      <td>NaN</td>\n      <td>NaN</td>\n      <td>78.940002</td>\n    </tr>\n    <tr>\n      <th>5640</th>\n      <td>United States</td>\n      <td>2015</td>\n      <td>NaN</td>\n      <td>NaN</td>\n      <td>78.870003</td>\n    </tr>\n    <tr>\n      <th>5641</th>\n      <td>United States</td>\n      <td>2016</td>\n      <td>NaN</td>\n      <td>NaN</td>\n      <td>78.860001</td>\n    </tr>\n  </tbody>\n</table>\n<p>5642 rows × 5 columns</p>\n</div>"
     },
     "metadata": {},
     "execution_count": 10
    }
   ],
   "source": [
    "merge_df2 = pd.merge(merge_df1, life_expect_df, on = [\"Location\", \"Period\"], how = \"outer\")\n",
    "merge_df2"
   ]
  },
  {
   "cell_type": "code",
   "execution_count": 11,
   "metadata": {},
   "outputs": [
    {
     "output_type": "execute_result",
     "data": {
      "text/plain": [
       "               Location  Period  Pharmicists Per 10,000  \\\n",
       "0           Afghanistan    2016                    0.47   \n",
       "1           Afghanistan    2015                    0.50   \n",
       "2           Afghanistan    2014                    0.51   \n",
       "3           Afghanistan    2012                    0.27   \n",
       "4           Afghanistan    2011                    0.28   \n",
       "...                 ...     ...                     ...   \n",
       "7079           Zimbabwe    2003                     NaN   \n",
       "7080           Zimbabwe    2002                     NaN   \n",
       "7081           Zimbabwe    2001                     NaN   \n",
       "7082  Republic of Korea    2001                     NaN   \n",
       "7083  Republic of Korea    2000                     NaN   \n",
       "\n",
       "      Medical Doctors Per 10,000  Life expectancy  \\\n",
       "0                           2.78              NaN   \n",
       "1                           2.85              NaN   \n",
       "2                           2.98              NaN   \n",
       "3                           2.41              NaN   \n",
       "4                           2.52              NaN   \n",
       "...                          ...              ...   \n",
       "7079                         NaN              NaN   \n",
       "7080                         NaN              NaN   \n",
       "7081                         NaN              NaN   \n",
       "7082                         NaN              NaN   \n",
       "7083                         NaN              NaN   \n",
       "\n",
       "      Population with basic handwashing facilities at home (%)  \\\n",
       "0                                                 37.67          \n",
       "1                                                 37.59          \n",
       "2                                                 37.52          \n",
       "3                                                 37.37          \n",
       "4                                                 37.30          \n",
       "...                                                 ...          \n",
       "7079                                                NaN          \n",
       "7080                                                NaN          \n",
       "7081                                                NaN          \n",
       "7082                                                NaN          \n",
       "7083                                                NaN          \n",
       "\n",
       "      Population using at least basic drinking-water services (%)  \\\n",
       "0                                                 54.84             \n",
       "1                                                 52.39             \n",
       "2                                                 49.96             \n",
       "3                                                 45.19             \n",
       "4                                                 42.84             \n",
       "...                                                 ...             \n",
       "7079                                              58.59             \n",
       "7080                                              59.23             \n",
       "7081                                              59.88             \n",
       "7082                                                NaN             \n",
       "7083                                                NaN             \n",
       "\n",
       "      Population using at least basic sanitization services (%)  \n",
       "0                                                 42.05          \n",
       "1                                                 40.71          \n",
       "2                                                 39.37          \n",
       "3                                                 36.75          \n",
       "4                                                 35.46          \n",
       "...                                                 ...          \n",
       "7079                                              46.11          \n",
       "7080                                              46.15          \n",
       "7081                                              46.05          \n",
       "7082                                             100.00          \n",
       "7083                                             100.00          \n",
       "\n",
       "[7084 rows x 8 columns]"
      ],
      "text/html": "<div>\n<style scoped>\n    .dataframe tbody tr th:only-of-type {\n        vertical-align: middle;\n    }\n\n    .dataframe tbody tr th {\n        vertical-align: top;\n    }\n\n    .dataframe thead th {\n        text-align: right;\n    }\n</style>\n<table border=\"1\" class=\"dataframe\">\n  <thead>\n    <tr style=\"text-align: right;\">\n      <th></th>\n      <th>Location</th>\n      <th>Period</th>\n      <th>Pharmicists Per 10,000</th>\n      <th>Medical Doctors Per 10,000</th>\n      <th>Life expectancy</th>\n      <th>Population with basic handwashing facilities at home (%)</th>\n      <th>Population using at least basic drinking-water services (%)</th>\n      <th>Population using at least basic sanitization services (%)</th>\n    </tr>\n  </thead>\n  <tbody>\n    <tr>\n      <th>0</th>\n      <td>Afghanistan</td>\n      <td>2016</td>\n      <td>0.47</td>\n      <td>2.78</td>\n      <td>NaN</td>\n      <td>37.67</td>\n      <td>54.84</td>\n      <td>42.05</td>\n    </tr>\n    <tr>\n      <th>1</th>\n      <td>Afghanistan</td>\n      <td>2015</td>\n      <td>0.50</td>\n      <td>2.85</td>\n      <td>NaN</td>\n      <td>37.59</td>\n      <td>52.39</td>\n      <td>40.71</td>\n    </tr>\n    <tr>\n      <th>2</th>\n      <td>Afghanistan</td>\n      <td>2014</td>\n      <td>0.51</td>\n      <td>2.98</td>\n      <td>NaN</td>\n      <td>37.52</td>\n      <td>49.96</td>\n      <td>39.37</td>\n    </tr>\n    <tr>\n      <th>3</th>\n      <td>Afghanistan</td>\n      <td>2012</td>\n      <td>0.27</td>\n      <td>2.41</td>\n      <td>NaN</td>\n      <td>37.37</td>\n      <td>45.19</td>\n      <td>36.75</td>\n    </tr>\n    <tr>\n      <th>4</th>\n      <td>Afghanistan</td>\n      <td>2011</td>\n      <td>0.28</td>\n      <td>2.52</td>\n      <td>NaN</td>\n      <td>37.30</td>\n      <td>42.84</td>\n      <td>35.46</td>\n    </tr>\n    <tr>\n      <th>...</th>\n      <td>...</td>\n      <td>...</td>\n      <td>...</td>\n      <td>...</td>\n      <td>...</td>\n      <td>...</td>\n      <td>...</td>\n      <td>...</td>\n    </tr>\n    <tr>\n      <th>7079</th>\n      <td>Zimbabwe</td>\n      <td>2003</td>\n      <td>NaN</td>\n      <td>NaN</td>\n      <td>NaN</td>\n      <td>NaN</td>\n      <td>58.59</td>\n      <td>46.11</td>\n    </tr>\n    <tr>\n      <th>7080</th>\n      <td>Zimbabwe</td>\n      <td>2002</td>\n      <td>NaN</td>\n      <td>NaN</td>\n      <td>NaN</td>\n      <td>NaN</td>\n      <td>59.23</td>\n      <td>46.15</td>\n    </tr>\n    <tr>\n      <th>7081</th>\n      <td>Zimbabwe</td>\n      <td>2001</td>\n      <td>NaN</td>\n      <td>NaN</td>\n      <td>NaN</td>\n      <td>NaN</td>\n      <td>59.88</td>\n      <td>46.05</td>\n    </tr>\n    <tr>\n      <th>7082</th>\n      <td>Republic of Korea</td>\n      <td>2001</td>\n      <td>NaN</td>\n      <td>NaN</td>\n      <td>NaN</td>\n      <td>NaN</td>\n      <td>NaN</td>\n      <td>100.00</td>\n    </tr>\n    <tr>\n      <th>7083</th>\n      <td>Republic of Korea</td>\n      <td>2000</td>\n      <td>NaN</td>\n      <td>NaN</td>\n      <td>NaN</td>\n      <td>NaN</td>\n      <td>NaN</td>\n      <td>100.00</td>\n    </tr>\n  </tbody>\n</table>\n<p>7084 rows × 8 columns</p>\n</div>"
     },
     "metadata": {},
     "execution_count": 11
    }
   ],
   "source": [
    "merge_df3 = pd.merge(merge_df2, hand_wash_df, on = [\"Location\", \"Period\"], how = \"outer\")\n",
    "merge_df4 = pd.merge(merge_df3, drink_water_df, on = [\"Location\", \"Period\"], how = \"outer\")\n",
    "final_merge_df = pd.merge(merge_df4, sanitize_df, on = [\"Location\", \"Period\"], how = \"outer\")\n",
    "final_merge_df"
   ]
  },
  {
   "cell_type": "code",
   "execution_count": 12,
   "metadata": {},
   "outputs": [
    {
     "output_type": "execute_result",
     "data": {
      "text/plain": [
       "            Period  Pharmicists Per 10,000  Medical Doctors Per 10,000  \\\n",
       "count  7084.000000             1795.000000                 2506.000000   \n",
       "mean   1961.520045                4.124118                   20.685012   \n",
       "std      65.208711                3.624610                   14.299267   \n",
       "min    1800.000000                0.002000                    0.130000   \n",
       "25%    1918.000000                0.790000                    7.782500   \n",
       "50%    2000.000000                3.530000                   21.280000   \n",
       "75%    2009.000000                6.390000                   31.660000   \n",
       "max    2018.000000               26.300000                   84.220000   \n",
       "\n",
       "       Life expectancy  \\\n",
       "count      3253.000000   \n",
       "mean         48.680380   \n",
       "std          17.965669   \n",
       "min           8.108836   \n",
       "25%          32.000000   \n",
       "50%          41.880001   \n",
       "75%          66.820000   \n",
       "max          83.940002   \n",
       "\n",
       "       Population with basic handwashing facilities at home (%)  \\\n",
       "count                                         921.000000          \n",
       "mean                                           47.501911          \n",
       "std                                            32.774406          \n",
       "min                                             1.030000          \n",
       "25%                                            13.980000          \n",
       "50%                                            44.520000          \n",
       "75%                                            81.740000          \n",
       "max                                           100.000000          \n",
       "\n",
       "       Population using at least basic drinking-water services (%)  \\\n",
       "count                                        3455.000000             \n",
       "mean                                           77.847103             \n",
       "std                                            23.987570             \n",
       "min                                            10.130000             \n",
       "25%                                            59.895000             \n",
       "50%                                            87.650000             \n",
       "75%                                            98.460000             \n",
       "max                                           100.000000             \n",
       "\n",
       "       Population using at least basic sanitization services (%)  \n",
       "count                                        3439.000000          \n",
       "mean                                           71.211966          \n",
       "std                                            30.342367          \n",
       "min                                             3.400000          \n",
       "25%                                            45.850000          \n",
       "50%                                            85.260000          \n",
       "75%                                            97.630000          \n",
       "max                                           100.000000          "
      ],
      "text/html": "<div>\n<style scoped>\n    .dataframe tbody tr th:only-of-type {\n        vertical-align: middle;\n    }\n\n    .dataframe tbody tr th {\n        vertical-align: top;\n    }\n\n    .dataframe thead th {\n        text-align: right;\n    }\n</style>\n<table border=\"1\" class=\"dataframe\">\n  <thead>\n    <tr style=\"text-align: right;\">\n      <th></th>\n      <th>Period</th>\n      <th>Pharmicists Per 10,000</th>\n      <th>Medical Doctors Per 10,000</th>\n      <th>Life expectancy</th>\n      <th>Population with basic handwashing facilities at home (%)</th>\n      <th>Population using at least basic drinking-water services (%)</th>\n      <th>Population using at least basic sanitization services (%)</th>\n    </tr>\n  </thead>\n  <tbody>\n    <tr>\n      <th>count</th>\n      <td>7084.000000</td>\n      <td>1795.000000</td>\n      <td>2506.000000</td>\n      <td>3253.000000</td>\n      <td>921.000000</td>\n      <td>3455.000000</td>\n      <td>3439.000000</td>\n    </tr>\n    <tr>\n      <th>mean</th>\n      <td>1961.520045</td>\n      <td>4.124118</td>\n      <td>20.685012</td>\n      <td>48.680380</td>\n      <td>47.501911</td>\n      <td>77.847103</td>\n      <td>71.211966</td>\n    </tr>\n    <tr>\n      <th>std</th>\n      <td>65.208711</td>\n      <td>3.624610</td>\n      <td>14.299267</td>\n      <td>17.965669</td>\n      <td>32.774406</td>\n      <td>23.987570</td>\n      <td>30.342367</td>\n    </tr>\n    <tr>\n      <th>min</th>\n      <td>1800.000000</td>\n      <td>0.002000</td>\n      <td>0.130000</td>\n      <td>8.108836</td>\n      <td>1.030000</td>\n      <td>10.130000</td>\n      <td>3.400000</td>\n    </tr>\n    <tr>\n      <th>25%</th>\n      <td>1918.000000</td>\n      <td>0.790000</td>\n      <td>7.782500</td>\n      <td>32.000000</td>\n      <td>13.980000</td>\n      <td>59.895000</td>\n      <td>45.850000</td>\n    </tr>\n    <tr>\n      <th>50%</th>\n      <td>2000.000000</td>\n      <td>3.530000</td>\n      <td>21.280000</td>\n      <td>41.880001</td>\n      <td>44.520000</td>\n      <td>87.650000</td>\n      <td>85.260000</td>\n    </tr>\n    <tr>\n      <th>75%</th>\n      <td>2009.000000</td>\n      <td>6.390000</td>\n      <td>31.660000</td>\n      <td>66.820000</td>\n      <td>81.740000</td>\n      <td>98.460000</td>\n      <td>97.630000</td>\n    </tr>\n    <tr>\n      <th>max</th>\n      <td>2018.000000</td>\n      <td>26.300000</td>\n      <td>84.220000</td>\n      <td>83.940002</td>\n      <td>100.000000</td>\n      <td>100.000000</td>\n      <td>100.000000</td>\n    </tr>\n  </tbody>\n</table>\n</div>"
     },
     "metadata": {},
     "execution_count": 12
    }
   ],
   "source": [
    "final_merge_df.describe()"
   ]
  },
  {
   "cell_type": "code",
   "execution_count": 13,
   "metadata": {},
   "outputs": [
    {
     "output_type": "execute_result",
     "data": {
      "text/plain": [
       "198"
      ]
     },
     "metadata": {},
     "execution_count": 13
    }
   ],
   "source": [
    "# Finding the number of countries\n",
    "country = final_merge_df[\"Location\"].nunique()\n",
    "country"
   ]
  },
  {
   "cell_type": "code",
   "execution_count": 15,
   "metadata": {},
   "outputs": [
    {
     "output_type": "execute_result",
     "data": {
      "text/plain": [
       "Location\n",
       "Afghanistan                            37.755000\n",
       "Albania                                84.061667\n",
       "Algeria                                86.305000\n",
       "Andorra                               100.000000\n",
       "Angola                                 24.313889\n",
       "                                         ...    \n",
       "Venezuela (Bolivarian Republic of)     96.187778\n",
       "Viet Nam                               83.970556\n",
       "Yemen                                  40.171667\n",
       "Zambia                                 36.503889\n",
       "Zimbabwe                               55.077778\n",
       "Name: Population using at least basic drinking-water services (%), Length: 198, dtype: float64"
      ]
     },
     "metadata": {},
     "execution_count": 15
    }
   ],
   "source": [
    "final_merge_df.groupby([\"Location\"])[\"Population using at least basic drinking-water services (%)\"].mean()\n"
   ]
  },
  {
   "cell_type": "code",
   "execution_count": 16,
   "metadata": {},
   "outputs": [
    {
     "output_type": "execute_result",
     "data": {
      "text/plain": [
       "Location\n",
       "Afghanistan                            37.100\n",
       "Albania                                82.215\n",
       "Algeria                                86.365\n",
       "Andorra                               100.000\n",
       "Angola                                 24.325\n",
       "                                       ...   \n",
       "Venezuela (Bolivarian Republic of)     96.190\n",
       "Viet Nam                               83.860\n",
       "Yemen                                  40.170\n",
       "Zambia                                 36.590\n",
       "Zimbabwe                               55.085\n",
       "Name: Population using at least basic drinking-water services (%), Length: 198, dtype: float64"
      ]
     },
     "metadata": {},
     "execution_count": 16
    }
   ],
   "source": [
    "final_merge_df.groupby([\"Location\"])[\"Population using at least basic drinking-water services (%)\"].median()"
   ]
  },
  {
   "cell_type": "code",
   "execution_count": 17,
   "metadata": {},
   "outputs": [
    {
     "output_type": "execute_result",
     "data": {
      "text/plain": [
       "Location\n",
       "Afghanistan                           136.584379\n",
       "Albania                                11.207215\n",
       "Algeria                                 3.315509\n",
       "Andorra                                 0.000000\n",
       "Angola                                  3.901755\n",
       "                                         ...    \n",
       "Venezuela (Bolivarian Republic of)      0.084948\n",
       "Viet Nam                               28.983217\n",
       "Yemen                                 116.555591\n",
       "Zambia                                 11.750002\n",
       "Zimbabwe                               10.950689\n",
       "Name: Population using at least basic drinking-water services (%), Length: 198, dtype: float64"
      ]
     },
     "metadata": {},
     "execution_count": 17
    }
   ],
   "source": [
    " final_merge_df.groupby([\"Location\"])[\"Population using at least basic drinking-water services (%)\"].var()"
   ]
  },
  {
   "cell_type": "code",
   "execution_count": 18,
   "metadata": {},
   "outputs": [
    {
     "output_type": "execute_result",
     "data": {
      "text/plain": [
       "Location\n",
       "Afghanistan                           11.686932\n",
       "Albania                                3.347718\n",
       "Algeria                                1.820854\n",
       "Andorra                                0.000000\n",
       "Angola                                 1.975286\n",
       "                                        ...    \n",
       "Venezuela (Bolivarian Republic of)     0.291458\n",
       "Viet Nam                               5.383606\n",
       "Yemen                                 10.796091\n",
       "Zambia                                 3.427828\n",
       "Zimbabwe                               3.309183\n",
       "Name: Population using at least basic drinking-water services (%), Length: 198, dtype: float64"
      ]
     },
     "metadata": {},
     "execution_count": 18
    }
   ],
   "source": [
    " final_merge_df.groupby([\"Location\"])[\"Population using at least basic drinking-water services (%)\"].std()"
   ]
  },
  {
   "cell_type": "code",
   "execution_count": 19,
   "metadata": {},
   "outputs": [
    {
     "output_type": "execute_result",
     "data": {
      "text/plain": [
       "Location\n",
       "Afghanistan                           2.754636\n",
       "Albania                               0.789065\n",
       "Algeria                               0.429179\n",
       "Andorra                               0.000000\n",
       "Angola                                0.465579\n",
       "                                        ...   \n",
       "Venezuela (Bolivarian Republic of)    0.068697\n",
       "Viet Nam                              1.268928\n",
       "Yemen                                 2.544663\n",
       "Zambia                                0.807947\n",
       "Zimbabwe                              0.779982\n",
       "Name: Population using at least basic drinking-water services (%), Length: 198, dtype: float64"
      ]
     },
     "metadata": {},
     "execution_count": 19
    }
   ],
   "source": [
    " final_merge_df.groupby([\"Location\"])[\"Population using at least basic drinking-water services (%)\"].sem()"
   ]
  },
  {
   "cell_type": "code",
   "execution_count": 37,
   "metadata": {},
   "outputs": [],
   "source": [
    "# ! pip install pycountry-convert"
   ]
  },
  {
   "cell_type": "code",
   "execution_count": 28,
   "metadata": {},
   "outputs": [],
   "source": [
    "# import pycountry_convert\n",
    "# import pycountry"
   ]
  },
  {
   "cell_type": "code",
   "execution_count": 32,
   "metadata": {},
   "outputs": [],
   "source": [
    "# from pycountry_convert import country_name_to_country_alpha2"
   ]
  },
  {
   "cell_type": "code",
   "execution_count": 38,
   "metadata": {},
   "outputs": [],
   "source": [
    "# df = country_name_to_country_alpha2(final_merge_df[\"Location\"],cn_name_format=\"default\")"
   ]
  },
  {
   "cell_type": "code",
   "execution_count": null,
   "metadata": {},
   "outputs": [],
   "source": []
  },
  {
   "cell_type": "code",
   "execution_count": null,
   "metadata": {},
   "outputs": [],
   "source": []
  }
 ],
 "metadata": {
  "kernelspec": {
   "name": "python3",
   "display_name": "Python 3.8.5 64-bit ('base': conda)"
  },
  "language_info": {
   "codemirror_mode": {
    "name": "ipython",
    "version": 3
   },
   "file_extension": ".py",
   "mimetype": "text/x-python",
   "name": "python",
   "nbconvert_exporter": "python",
   "pygments_lexer": "ipython3",
   "version": "3.8.5"
  },
  "interpreter": {
   "hash": "8fac594bfae6525c0c41b4041d2d72effa188cc8ead05f81b1fab2bb098927fb"
  }
 },
 "nbformat": 4,
 "nbformat_minor": 4
}